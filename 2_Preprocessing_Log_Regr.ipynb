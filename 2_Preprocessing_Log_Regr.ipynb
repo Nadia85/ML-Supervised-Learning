{
 "cells": [
  {
   "cell_type": "markdown",
   "metadata": {},
   "source": [
    "# SUPERVISED LEARNING"
   ]
  },
  {
   "cell_type": "markdown",
   "metadata": {},
   "source": [
    "# Data preprocessing and Logistic Regression for Binary Classification"
   ]
  },
  {
   "cell_type": "markdown",
   "metadata": {},
   "source": [
    "### Principal techniques for preprocessing data:"
   ]
  },
  {
   "cell_type": "markdown",
   "metadata": {},
   "source": [
    "**Handling missing values**\n",
    "\n",
    "**Categorical features transformation**\n",
    "\n",
    "**Stratification**\n",
    "\n",
    "**Classes Balancing**\n",
    "\n",
    "**Scaling**"
   ]
  },
  {
   "cell_type": "markdown",
   "metadata": {},
   "source": [
    "Librarias we need:\n",
    "+ numpy\n",
    "+ sklearn\n",
    "+ pandas\n",
    "+ matplotlib"
   ]
  },
  {
   "cell_type": "markdown",
   "metadata": {},
   "source": [
    "## Logistic Regression theory"
   ]
  },
  {
   "cell_type": "markdown",
   "metadata": {},
   "source": [
    "Logistic Regression predicts the probabilities of an object belonging to each class. The sum of the Logistic Regression responses on one object for all classes is equal to one.\n",
    "$$ \\sum_{k=1}^K p_{ik} = 1, \\quad p_k \\equiv P\\,(y_i = k \\mid x_i, \\theta), $$\n",
    "where:\n",
    "- $p_{ik}$ - the probability of belonging $x_i$ object from the sample $X$ to the class $k$ \n",
    "- $\\theta$ - internal algorithm parameters that are set in the learning process, in case of logistic regression - $w, b$\n",
    "In case of Binary Classification, it is enough to calculate the probability of object belonging to one of the classes:\n",
    "$$ P\\,(y_i = 1 \\mid x_i, \\theta) = \\frac{1}{1 + \\exp(-w^T x_i-b)} $$\n",
    "Parameters $w$ and $b$ are found as solutions to the optimization problem:\n",
    "\n",
    "L2-regularization:\n",
    "\n",
    "$$ Q(X, y, \\theta) = \\frac{1}{2} w^T w + C \\sum_{i=1}^l \\log ( 1 + \\exp(-y_i (w^T x_i + b ) ) ) \\longrightarrow \\min\\limits_{w,b} $$\n",
    "\n",
    "L1-regularization:\n",
    "\n",
    "$$ Q(X, y, \\theta) = \\sum_{d=1}^D |w_d| + C \\sum_{i=1}^l \\log ( 1 + \\exp(-y_i (w^T x_i + b ) ) ) \\longrightarrow \\min\\limits_{w,b} $$\n",
    "\n",
    "where $C$ - is a standard model hyperparameter that controls how much we allow the model to adapt to the data"
   ]
  },
  {
   "cell_type": "markdown",
   "metadata": {},
   "source": [
    "## Data load and review"
   ]
  },
  {
   "cell_type": "code",
   "execution_count": 1,
   "metadata": {},
   "outputs": [],
   "source": [
    "import pandas as pd\n",
    "import numpy as np\n",
    "import matplotlib\n",
    "from matplotlib import pyplot as plt\n",
    "matplotlib.style.use('ggplot')\n",
    "%matplotlib inline"
   ]
  },
  {
   "cell_type": "code",
   "execution_count": 2,
   "metadata": {},
   "outputs": [],
   "source": [
    "from warnings import filterwarnings \n",
    "filterwarnings('ignore')"
   ]
  },
  {
   "cell_type": "markdown",
   "metadata": {},
   "source": [
    "Objective: according to 38 criteria associated with the grant application (the field of research of scientists, information on their academic background, the size of the grant, the area in which it is issued) to predict whether the application will be accepted. The dataset includes information on 6,000 grant applications that were submitted to the University of Melbourne from 2004 to 2008.\n",
    "The full version of the data with larger number of features can be found at https://www.kaggle.com/c/unimelb."
   ]
  },
  {
   "cell_type": "code",
   "execution_count": 3,
   "metadata": {},
   "outputs": [
    {
     "data": {
      "text/plain": [
       "(6000, 39)"
      ]
     },
     "execution_count": 3,
     "metadata": {},
     "output_type": "execute_result"
    }
   ],
   "source": [
    "data = pd.read_csv('data.csv')\n",
    "data.shape"
   ]
  },
  {
   "cell_type": "code",
   "execution_count": 4,
   "metadata": {},
   "outputs": [],
   "source": [
    "X = data.drop('Grant.Status', 1)\n",
    "y = data['Grant.Status']"
   ]
  },
  {
   "cell_type": "code",
   "execution_count": 5,
   "metadata": {},
   "outputs": [
    {
     "data": {
      "text/html": [
       "<div>\n",
       "<style scoped>\n",
       "    .dataframe tbody tr th:only-of-type {\n",
       "        vertical-align: middle;\n",
       "    }\n",
       "\n",
       "    .dataframe tbody tr th {\n",
       "        vertical-align: top;\n",
       "    }\n",
       "\n",
       "    .dataframe thead th {\n",
       "        text-align: right;\n",
       "    }\n",
       "</style>\n",
       "<table border=\"1\" class=\"dataframe\">\n",
       "  <thead>\n",
       "    <tr style=\"text-align: right;\">\n",
       "      <th></th>\n",
       "      <th>Grant.Status</th>\n",
       "      <th>Sponsor.Code</th>\n",
       "      <th>Grant.Category.Code</th>\n",
       "      <th>Contract.Value.Band...see.note.A</th>\n",
       "      <th>RFCD.Code.1</th>\n",
       "      <th>RFCD.Percentage.1</th>\n",
       "      <th>RFCD.Code.2</th>\n",
       "      <th>RFCD.Percentage.2</th>\n",
       "      <th>RFCD.Code.3</th>\n",
       "      <th>RFCD.Percentage.3</th>\n",
       "      <th>...</th>\n",
       "      <th>Dept.No..1</th>\n",
       "      <th>Faculty.No..1</th>\n",
       "      <th>With.PHD.1</th>\n",
       "      <th>No..of.Years.in.Uni.at.Time.of.Grant.1</th>\n",
       "      <th>Number.of.Successful.Grant.1</th>\n",
       "      <th>Number.of.Unsuccessful.Grant.1</th>\n",
       "      <th>A..1</th>\n",
       "      <th>A.1</th>\n",
       "      <th>B.1</th>\n",
       "      <th>C.1</th>\n",
       "    </tr>\n",
       "  </thead>\n",
       "  <tbody>\n",
       "    <tr>\n",
       "      <td>0</td>\n",
       "      <td>1</td>\n",
       "      <td>21A</td>\n",
       "      <td>50A</td>\n",
       "      <td>A</td>\n",
       "      <td>230202.0</td>\n",
       "      <td>50.0</td>\n",
       "      <td>230203.0</td>\n",
       "      <td>30.0</td>\n",
       "      <td>230204.0</td>\n",
       "      <td>20.0</td>\n",
       "      <td>...</td>\n",
       "      <td>3098.0</td>\n",
       "      <td>31.0</td>\n",
       "      <td>Yes</td>\n",
       "      <td>&gt;=0 to 5</td>\n",
       "      <td>2.0</td>\n",
       "      <td>0.0</td>\n",
       "      <td>0.0</td>\n",
       "      <td>4.0</td>\n",
       "      <td>2.0</td>\n",
       "      <td>0.0</td>\n",
       "    </tr>\n",
       "    <tr>\n",
       "      <td>1</td>\n",
       "      <td>1</td>\n",
       "      <td>4D</td>\n",
       "      <td>10A</td>\n",
       "      <td>D</td>\n",
       "      <td>320801.0</td>\n",
       "      <td>100.0</td>\n",
       "      <td>0.0</td>\n",
       "      <td>0.0</td>\n",
       "      <td>0.0</td>\n",
       "      <td>0.0</td>\n",
       "      <td>...</td>\n",
       "      <td>2553.0</td>\n",
       "      <td>25.0</td>\n",
       "      <td>Yes</td>\n",
       "      <td>&gt;=0 to 5</td>\n",
       "      <td>3.0</td>\n",
       "      <td>1.0</td>\n",
       "      <td>0.0</td>\n",
       "      <td>2.0</td>\n",
       "      <td>0.0</td>\n",
       "      <td>0.0</td>\n",
       "    </tr>\n",
       "    <tr>\n",
       "      <td>2</td>\n",
       "      <td>0</td>\n",
       "      <td>NaN</td>\n",
       "      <td>NaN</td>\n",
       "      <td>NaN</td>\n",
       "      <td>320602.0</td>\n",
       "      <td>50.0</td>\n",
       "      <td>321004.0</td>\n",
       "      <td>30.0</td>\n",
       "      <td>321015.0</td>\n",
       "      <td>20.0</td>\n",
       "      <td>...</td>\n",
       "      <td>2813.0</td>\n",
       "      <td>25.0</td>\n",
       "      <td>NaN</td>\n",
       "      <td>Less than 0</td>\n",
       "      <td>1.0</td>\n",
       "      <td>5.0</td>\n",
       "      <td>0.0</td>\n",
       "      <td>7.0</td>\n",
       "      <td>2.0</td>\n",
       "      <td>0.0</td>\n",
       "    </tr>\n",
       "    <tr>\n",
       "      <td>3</td>\n",
       "      <td>0</td>\n",
       "      <td>51C</td>\n",
       "      <td>20C</td>\n",
       "      <td>A</td>\n",
       "      <td>291503.0</td>\n",
       "      <td>60.0</td>\n",
       "      <td>321402.0</td>\n",
       "      <td>40.0</td>\n",
       "      <td>0.0</td>\n",
       "      <td>0.0</td>\n",
       "      <td>...</td>\n",
       "      <td>2553.0</td>\n",
       "      <td>25.0</td>\n",
       "      <td>NaN</td>\n",
       "      <td>more than 15</td>\n",
       "      <td>2.0</td>\n",
       "      <td>1.0</td>\n",
       "      <td>5.0</td>\n",
       "      <td>6.0</td>\n",
       "      <td>9.0</td>\n",
       "      <td>1.0</td>\n",
       "    </tr>\n",
       "    <tr>\n",
       "      <td>4</td>\n",
       "      <td>0</td>\n",
       "      <td>24D</td>\n",
       "      <td>30B</td>\n",
       "      <td>NaN</td>\n",
       "      <td>380107.0</td>\n",
       "      <td>100.0</td>\n",
       "      <td>0.0</td>\n",
       "      <td>0.0</td>\n",
       "      <td>0.0</td>\n",
       "      <td>0.0</td>\n",
       "      <td>...</td>\n",
       "      <td>2923.0</td>\n",
       "      <td>25.0</td>\n",
       "      <td>NaN</td>\n",
       "      <td>Less than 0</td>\n",
       "      <td>0.0</td>\n",
       "      <td>2.0</td>\n",
       "      <td>0.0</td>\n",
       "      <td>0.0</td>\n",
       "      <td>0.0</td>\n",
       "      <td>0.0</td>\n",
       "    </tr>\n",
       "  </tbody>\n",
       "</table>\n",
       "<p>5 rows × 39 columns</p>\n",
       "</div>"
      ],
      "text/plain": [
       "   Grant.Status Sponsor.Code Grant.Category.Code  \\\n",
       "0             1          21A                 50A   \n",
       "1             1           4D                 10A   \n",
       "2             0          NaN                 NaN   \n",
       "3             0          51C                 20C   \n",
       "4             0          24D                 30B   \n",
       "\n",
       "  Contract.Value.Band...see.note.A  RFCD.Code.1  RFCD.Percentage.1  \\\n",
       "0                               A      230202.0               50.0   \n",
       "1                               D      320801.0              100.0   \n",
       "2                              NaN     320602.0               50.0   \n",
       "3                               A      291503.0               60.0   \n",
       "4                              NaN     380107.0              100.0   \n",
       "\n",
       "   RFCD.Code.2  RFCD.Percentage.2  RFCD.Code.3  RFCD.Percentage.3  ...  \\\n",
       "0     230203.0               30.0     230204.0               20.0  ...   \n",
       "1          0.0                0.0          0.0                0.0  ...   \n",
       "2     321004.0               30.0     321015.0               20.0  ...   \n",
       "3     321402.0               40.0          0.0                0.0  ...   \n",
       "4          0.0                0.0          0.0                0.0  ...   \n",
       "\n",
       "   Dept.No..1  Faculty.No..1  With.PHD.1  \\\n",
       "0      3098.0           31.0        Yes    \n",
       "1      2553.0           25.0        Yes    \n",
       "2      2813.0           25.0         NaN   \n",
       "3      2553.0           25.0         NaN   \n",
       "4      2923.0           25.0         NaN   \n",
       "\n",
       "   No..of.Years.in.Uni.at.Time.of.Grant.1  Number.of.Successful.Grant.1  \\\n",
       "0                                >=0 to 5                           2.0   \n",
       "1                                >=0 to 5                           3.0   \n",
       "2                             Less than 0                           1.0   \n",
       "3                            more than 15                           2.0   \n",
       "4                             Less than 0                           0.0   \n",
       "\n",
       "   Number.of.Unsuccessful.Grant.1  A..1  A.1  B.1  C.1  \n",
       "0                             0.0   0.0  4.0  2.0  0.0  \n",
       "1                             1.0   0.0  2.0  0.0  0.0  \n",
       "2                             5.0   0.0  7.0  2.0  0.0  \n",
       "3                             1.0   5.0  6.0  9.0  1.0  \n",
       "4                             2.0   0.0  0.0  0.0  0.0  \n",
       "\n",
       "[5 rows x 39 columns]"
      ]
     },
     "execution_count": 5,
     "metadata": {},
     "output_type": "execute_result"
    }
   ],
   "source": [
    "data.head()"
   ]
  },
  {
   "cell_type": "markdown",
   "metadata": {},
   "source": [
    "From the properties of this model it follows that::\n",
    "- all $X$ must be numerical data (if there are categories among them, they need to be converted into real numbers in some way)\n",
    "- there should be no missing values\n",
    "\n",
    "Therefore, the first step in the preprocessing of dataset for logistic regression will be the coding of categorical features, as well as the removal or interpretation of missing values."
   ]
  },
  {
   "cell_type": "code",
   "execution_count": 6,
   "metadata": {},
   "outputs": [
    {
     "data": {
      "text/plain": [
       "Index(['Grant.Status', 'Sponsor.Code', 'Grant.Category.Code',\n",
       "       'Contract.Value.Band...see.note.A', 'RFCD.Code.1', 'RFCD.Percentage.1',\n",
       "       'RFCD.Code.2', 'RFCD.Percentage.2', 'RFCD.Code.3', 'RFCD.Percentage.3',\n",
       "       'RFCD.Code.4', 'RFCD.Percentage.4', 'RFCD.Code.5', 'RFCD.Percentage.5',\n",
       "       'SEO.Code.1', 'SEO.Percentage.1', 'SEO.Code.2', 'SEO.Percentage.2',\n",
       "       'SEO.Code.3', 'SEO.Percentage.3', 'SEO.Code.4', 'SEO.Percentage.4',\n",
       "       'SEO.Code.5', 'SEO.Percentage.5', 'Person.ID.1', 'Role.1',\n",
       "       'Year.of.Birth.1', 'Country.of.Birth.1', 'Home.Language.1',\n",
       "       'Dept.No..1', 'Faculty.No..1', 'With.PHD.1',\n",
       "       'No..of.Years.in.Uni.at.Time.of.Grant.1',\n",
       "       'Number.of.Successful.Grant.1', 'Number.of.Unsuccessful.Grant.1',\n",
       "       'A..1', 'A.1', 'B.1', 'C.1'],\n",
       "      dtype='object')"
      ]
     },
     "execution_count": 6,
     "metadata": {},
     "output_type": "execute_result"
    }
   ],
   "source": [
    "data.columns"
   ]
  },
  {
   "cell_type": "markdown",
   "metadata": {},
   "source": [
    "The dataset has both numeric and categorical attributes"
   ]
  },
  {
   "cell_type": "code",
   "execution_count": 7,
   "metadata": {},
   "outputs": [],
   "source": [
    "numeric_cols = ['RFCD.Percentage.1', 'RFCD.Percentage.2', 'RFCD.Percentage.3', \n",
    "                'RFCD.Percentage.4', 'RFCD.Percentage.5',\n",
    "                'SEO.Percentage.1', 'SEO.Percentage.2', 'SEO.Percentage.3',\n",
    "                'SEO.Percentage.4', 'SEO.Percentage.5',\n",
    "                'Year.of.Birth.1', 'Number.of.Successful.Grant.1', 'Number.of.Unsuccessful.Grant.1']\n",
    "categorical_cols = list(set(X.columns.values.tolist()) - set(numeric_cols))"
   ]
  },
  {
   "cell_type": "markdown",
   "metadata": {},
   "source": [
    "It also contains missing values. The obvious solution would be to exclude all data that has at least one value missing."
   ]
  },
  {
   "cell_type": "code",
   "execution_count": 8,
   "metadata": {},
   "outputs": [
    {
     "data": {
      "text/plain": [
       "(213, 39)"
      ]
     },
     "execution_count": 8,
     "metadata": {},
     "output_type": "execute_result"
    }
   ],
   "source": [
    "data.dropna().shape"
   ]
  },
  {
   "cell_type": "markdown",
   "metadata": {},
   "source": [
    "If we do this, then we will throw out almost all the data, and this is not siutable. There are several ways to interpret missing values.\n",
    "\n",
    "For real features:\n",
    "- replace with $0$\n",
    "- replace with Mean\n",
    "\n",
    "For categorical features:\n",
    "- interpret the missing value as another one category"
   ]
  },
  {
   "cell_type": "markdown",
   "metadata": {},
   "source": [
    "## 1. Handling Missing Values"
   ]
  },
  {
   "cell_type": "code",
   "execution_count": 9,
   "metadata": {},
   "outputs": [
    {
     "data": {
      "text/html": [
       "<div>\n",
       "<style scoped>\n",
       "    .dataframe tbody tr th:only-of-type {\n",
       "        vertical-align: middle;\n",
       "    }\n",
       "\n",
       "    .dataframe tbody tr th {\n",
       "        vertical-align: top;\n",
       "    }\n",
       "\n",
       "    .dataframe thead th {\n",
       "        text-align: right;\n",
       "    }\n",
       "</style>\n",
       "<table border=\"1\" class=\"dataframe\">\n",
       "  <thead>\n",
       "    <tr style=\"text-align: right;\">\n",
       "      <th></th>\n",
       "      <th>RFCD.Percentage.1</th>\n",
       "      <th>RFCD.Percentage.2</th>\n",
       "      <th>RFCD.Percentage.3</th>\n",
       "      <th>RFCD.Percentage.4</th>\n",
       "      <th>RFCD.Percentage.5</th>\n",
       "      <th>SEO.Percentage.1</th>\n",
       "      <th>SEO.Percentage.2</th>\n",
       "      <th>SEO.Percentage.3</th>\n",
       "      <th>SEO.Percentage.4</th>\n",
       "      <th>SEO.Percentage.5</th>\n",
       "      <th>Year.of.Birth.1</th>\n",
       "      <th>Number.of.Successful.Grant.1</th>\n",
       "      <th>Number.of.Unsuccessful.Grant.1</th>\n",
       "    </tr>\n",
       "  </thead>\n",
       "  <tbody>\n",
       "    <tr>\n",
       "      <td>0</td>\n",
       "      <td>50.0</td>\n",
       "      <td>30.0</td>\n",
       "      <td>20.0</td>\n",
       "      <td>0.0</td>\n",
       "      <td>0.0</td>\n",
       "      <td>100.0</td>\n",
       "      <td>0.0</td>\n",
       "      <td>0.0</td>\n",
       "      <td>0.0</td>\n",
       "      <td>0.0</td>\n",
       "      <td>1965.0</td>\n",
       "      <td>2.0</td>\n",
       "      <td>0.0</td>\n",
       "    </tr>\n",
       "    <tr>\n",
       "      <td>1</td>\n",
       "      <td>100.0</td>\n",
       "      <td>0.0</td>\n",
       "      <td>0.0</td>\n",
       "      <td>0.0</td>\n",
       "      <td>0.0</td>\n",
       "      <td>100.0</td>\n",
       "      <td>0.0</td>\n",
       "      <td>0.0</td>\n",
       "      <td>0.0</td>\n",
       "      <td>0.0</td>\n",
       "      <td>1965.0</td>\n",
       "      <td>3.0</td>\n",
       "      <td>1.0</td>\n",
       "    </tr>\n",
       "    <tr>\n",
       "      <td>2</td>\n",
       "      <td>50.0</td>\n",
       "      <td>30.0</td>\n",
       "      <td>20.0</td>\n",
       "      <td>0.0</td>\n",
       "      <td>0.0</td>\n",
       "      <td>60.0</td>\n",
       "      <td>20.0</td>\n",
       "      <td>20.0</td>\n",
       "      <td>0.0</td>\n",
       "      <td>0.0</td>\n",
       "      <td>1955.0</td>\n",
       "      <td>1.0</td>\n",
       "      <td>5.0</td>\n",
       "    </tr>\n",
       "    <tr>\n",
       "      <td>3</td>\n",
       "      <td>60.0</td>\n",
       "      <td>40.0</td>\n",
       "      <td>0.0</td>\n",
       "      <td>0.0</td>\n",
       "      <td>0.0</td>\n",
       "      <td>60.0</td>\n",
       "      <td>40.0</td>\n",
       "      <td>0.0</td>\n",
       "      <td>0.0</td>\n",
       "      <td>0.0</td>\n",
       "      <td>1950.0</td>\n",
       "      <td>2.0</td>\n",
       "      <td>1.0</td>\n",
       "    </tr>\n",
       "    <tr>\n",
       "      <td>4</td>\n",
       "      <td>100.0</td>\n",
       "      <td>0.0</td>\n",
       "      <td>0.0</td>\n",
       "      <td>0.0</td>\n",
       "      <td>0.0</td>\n",
       "      <td>50.0</td>\n",
       "      <td>50.0</td>\n",
       "      <td>0.0</td>\n",
       "      <td>0.0</td>\n",
       "      <td>0.0</td>\n",
       "      <td>1970.0</td>\n",
       "      <td>0.0</td>\n",
       "      <td>2.0</td>\n",
       "    </tr>\n",
       "  </tbody>\n",
       "</table>\n",
       "</div>"
      ],
      "text/plain": [
       "   RFCD.Percentage.1  RFCD.Percentage.2  RFCD.Percentage.3  RFCD.Percentage.4  \\\n",
       "0               50.0               30.0               20.0                0.0   \n",
       "1              100.0                0.0                0.0                0.0   \n",
       "2               50.0               30.0               20.0                0.0   \n",
       "3               60.0               40.0                0.0                0.0   \n",
       "4              100.0                0.0                0.0                0.0   \n",
       "\n",
       "   RFCD.Percentage.5  SEO.Percentage.1  SEO.Percentage.2  SEO.Percentage.3  \\\n",
       "0                0.0             100.0               0.0               0.0   \n",
       "1                0.0             100.0               0.0               0.0   \n",
       "2                0.0              60.0              20.0              20.0   \n",
       "3                0.0              60.0              40.0               0.0   \n",
       "4                0.0              50.0              50.0               0.0   \n",
       "\n",
       "   SEO.Percentage.4  SEO.Percentage.5  Year.of.Birth.1  \\\n",
       "0               0.0               0.0           1965.0   \n",
       "1               0.0               0.0           1965.0   \n",
       "2               0.0               0.0           1955.0   \n",
       "3               0.0               0.0           1950.0   \n",
       "4               0.0               0.0           1970.0   \n",
       "\n",
       "   Number.of.Successful.Grant.1  Number.of.Unsuccessful.Grant.1  \n",
       "0                           2.0                             0.0  \n",
       "1                           3.0                             1.0  \n",
       "2                           1.0                             5.0  \n",
       "3                           2.0                             1.0  \n",
       "4                           0.0                             2.0  "
      ]
     },
     "execution_count": 9,
     "metadata": {},
     "output_type": "execute_result"
    }
   ],
   "source": [
    "# NUMERIC DATA\n",
    "# We will try both methods to treat missing values\n",
    "\n",
    "X_num = X[numeric_cols]\n",
    "X_real_mean = (X_num.fillna(X_num.mean())).round(0)\n",
    "X_real_zeros = X_num.fillna(0)\n",
    "X_real_mean.head()"
   ]
  },
  {
   "cell_type": "code",
   "execution_count": 10,
   "metadata": {},
   "outputs": [
    {
     "data": {
      "text/html": [
       "<div>\n",
       "<style scoped>\n",
       "    .dataframe tbody tr th:only-of-type {\n",
       "        vertical-align: middle;\n",
       "    }\n",
       "\n",
       "    .dataframe tbody tr th {\n",
       "        vertical-align: top;\n",
       "    }\n",
       "\n",
       "    .dataframe thead th {\n",
       "        text-align: right;\n",
       "    }\n",
       "</style>\n",
       "<table border=\"1\" class=\"dataframe\">\n",
       "  <thead>\n",
       "    <tr style=\"text-align: right;\">\n",
       "      <th></th>\n",
       "      <th>RFCD.Code.4</th>\n",
       "      <th>Role.1</th>\n",
       "      <th>RFCD.Code.1</th>\n",
       "      <th>Country.of.Birth.1</th>\n",
       "      <th>C.1</th>\n",
       "      <th>SEO.Code.5</th>\n",
       "      <th>Person.ID.1</th>\n",
       "      <th>Sponsor.Code</th>\n",
       "      <th>RFCD.Code.5</th>\n",
       "      <th>A..1</th>\n",
       "      <th>...</th>\n",
       "      <th>B.1</th>\n",
       "      <th>With.PHD.1</th>\n",
       "      <th>RFCD.Code.2</th>\n",
       "      <th>SEO.Code.3</th>\n",
       "      <th>A.1</th>\n",
       "      <th>Dept.No..1</th>\n",
       "      <th>SEO.Code.1</th>\n",
       "      <th>No..of.Years.in.Uni.at.Time.of.Grant.1</th>\n",
       "      <th>RFCD.Code.3</th>\n",
       "      <th>Home.Language.1</th>\n",
       "    </tr>\n",
       "  </thead>\n",
       "  <tbody>\n",
       "    <tr>\n",
       "      <td>0</td>\n",
       "      <td>0.0</td>\n",
       "      <td>CHIEF_INVESTIGATOR</td>\n",
       "      <td>230202.0</td>\n",
       "      <td>Australia</td>\n",
       "      <td>0.0</td>\n",
       "      <td>0.0</td>\n",
       "      <td>493297.0</td>\n",
       "      <td>21A</td>\n",
       "      <td>0.0</td>\n",
       "      <td>0.0</td>\n",
       "      <td>...</td>\n",
       "      <td>2.0</td>\n",
       "      <td>Yes</td>\n",
       "      <td>230203.0</td>\n",
       "      <td>0.0</td>\n",
       "      <td>4.0</td>\n",
       "      <td>3098.0</td>\n",
       "      <td>780101.0</td>\n",
       "      <td>&gt;=0 to 5</td>\n",
       "      <td>230204.0</td>\n",
       "      <td>NA</td>\n",
       "    </tr>\n",
       "    <tr>\n",
       "      <td>1</td>\n",
       "      <td>0.0</td>\n",
       "      <td>CHIEF_INVESTIGATOR</td>\n",
       "      <td>320801.0</td>\n",
       "      <td>Australia</td>\n",
       "      <td>0.0</td>\n",
       "      <td>0.0</td>\n",
       "      <td>330592.0</td>\n",
       "      <td>4D</td>\n",
       "      <td>0.0</td>\n",
       "      <td>0.0</td>\n",
       "      <td>...</td>\n",
       "      <td>0.0</td>\n",
       "      <td>Yes</td>\n",
       "      <td>0.0</td>\n",
       "      <td>0.0</td>\n",
       "      <td>2.0</td>\n",
       "      <td>2553.0</td>\n",
       "      <td>730112.0</td>\n",
       "      <td>&gt;=0 to 5</td>\n",
       "      <td>0.0</td>\n",
       "      <td>NA</td>\n",
       "    </tr>\n",
       "    <tr>\n",
       "      <td>2</td>\n",
       "      <td>0.0</td>\n",
       "      <td>CHIEF_INVESTIGATOR</td>\n",
       "      <td>320602.0</td>\n",
       "      <td>Australia</td>\n",
       "      <td>0.0</td>\n",
       "      <td>0.0</td>\n",
       "      <td>66887.0</td>\n",
       "      <td>NA</td>\n",
       "      <td>0.0</td>\n",
       "      <td>0.0</td>\n",
       "      <td>...</td>\n",
       "      <td>2.0</td>\n",
       "      <td>NA</td>\n",
       "      <td>321004.0</td>\n",
       "      <td>730108.0</td>\n",
       "      <td>7.0</td>\n",
       "      <td>2813.0</td>\n",
       "      <td>730203.0</td>\n",
       "      <td>Less than 0</td>\n",
       "      <td>321015.0</td>\n",
       "      <td>NA</td>\n",
       "    </tr>\n",
       "    <tr>\n",
       "      <td>3</td>\n",
       "      <td>0.0</td>\n",
       "      <td>CHIEF_INVESTIGATOR</td>\n",
       "      <td>291503.0</td>\n",
       "      <td>Great Britain</td>\n",
       "      <td>1.0</td>\n",
       "      <td>0.0</td>\n",
       "      <td>63812.0</td>\n",
       "      <td>51C</td>\n",
       "      <td>0.0</td>\n",
       "      <td>5.0</td>\n",
       "      <td>...</td>\n",
       "      <td>9.0</td>\n",
       "      <td>NA</td>\n",
       "      <td>321402.0</td>\n",
       "      <td>0.0</td>\n",
       "      <td>6.0</td>\n",
       "      <td>2553.0</td>\n",
       "      <td>730114.0</td>\n",
       "      <td>more than 15</td>\n",
       "      <td>0.0</td>\n",
       "      <td>NA</td>\n",
       "    </tr>\n",
       "    <tr>\n",
       "      <td>4</td>\n",
       "      <td>0.0</td>\n",
       "      <td>CHIEF_INVESTIGATOR</td>\n",
       "      <td>380107.0</td>\n",
       "      <td>Australia</td>\n",
       "      <td>0.0</td>\n",
       "      <td>0.0</td>\n",
       "      <td>13687.0</td>\n",
       "      <td>24D</td>\n",
       "      <td>0.0</td>\n",
       "      <td>0.0</td>\n",
       "      <td>...</td>\n",
       "      <td>0.0</td>\n",
       "      <td>NA</td>\n",
       "      <td>0.0</td>\n",
       "      <td>0.0</td>\n",
       "      <td>0.0</td>\n",
       "      <td>2923.0</td>\n",
       "      <td>730108.0</td>\n",
       "      <td>Less than 0</td>\n",
       "      <td>0.0</td>\n",
       "      <td>NA</td>\n",
       "    </tr>\n",
       "  </tbody>\n",
       "</table>\n",
       "<p>5 rows × 25 columns</p>\n",
       "</div>"
      ],
      "text/plain": [
       "  RFCD.Code.4              Role.1 RFCD.Code.1 Country.of.Birth.1  C.1  \\\n",
       "0         0.0  CHIEF_INVESTIGATOR    230202.0          Australia  0.0   \n",
       "1         0.0  CHIEF_INVESTIGATOR    320801.0          Australia  0.0   \n",
       "2         0.0  CHIEF_INVESTIGATOR    320602.0          Australia  0.0   \n",
       "3         0.0  CHIEF_INVESTIGATOR    291503.0      Great Britain  1.0   \n",
       "4         0.0  CHIEF_INVESTIGATOR    380107.0          Australia  0.0   \n",
       "\n",
       "  SEO.Code.5 Person.ID.1 Sponsor.Code RFCD.Code.5 A..1  ...  B.1 With.PHD.1  \\\n",
       "0        0.0    493297.0          21A         0.0  0.0  ...  2.0       Yes    \n",
       "1        0.0    330592.0           4D         0.0  0.0  ...  0.0       Yes    \n",
       "2        0.0     66887.0           NA         0.0  0.0  ...  2.0         NA   \n",
       "3        0.0     63812.0          51C         0.0  5.0  ...  9.0         NA   \n",
       "4        0.0     13687.0          24D         0.0  0.0  ...  0.0         NA   \n",
       "\n",
       "  RFCD.Code.2 SEO.Code.3  A.1 Dept.No..1 SEO.Code.1  \\\n",
       "0    230203.0        0.0  4.0     3098.0   780101.0   \n",
       "1         0.0        0.0  2.0     2553.0   730112.0   \n",
       "2    321004.0   730108.0  7.0     2813.0   730203.0   \n",
       "3    321402.0        0.0  6.0     2553.0   730114.0   \n",
       "4         0.0        0.0  0.0     2923.0   730108.0   \n",
       "\n",
       "  No..of.Years.in.Uni.at.Time.of.Grant.1 RFCD.Code.3 Home.Language.1  \n",
       "0                               >=0 to 5    230204.0              NA  \n",
       "1                               >=0 to 5         0.0              NA  \n",
       "2                            Less than 0    321015.0              NA  \n",
       "3                           more than 15         0.0              NA  \n",
       "4                            Less than 0         0.0              NA  \n",
       "\n",
       "[5 rows x 25 columns]"
      ]
     },
     "execution_count": 10,
     "metadata": {},
     "output_type": "execute_result"
    }
   ],
   "source": [
    "# CATEGORICAL DATA\n",
    "\n",
    "X_obj = (X[categorical_cols]).fillna('NA')\n",
    "X_cat = X_obj.astype('str')    \n",
    "X_cat.head()"
   ]
  },
  {
   "cell_type": "markdown",
   "metadata": {},
   "source": [
    "## 2. Categorical features converting"
   ]
  },
  {
   "cell_type": "markdown",
   "metadata": {},
   "source": [
    "To use the regression model, it is necessary to convert categorical features into the real ones. Consider the principal method of transforming categorical features into real ones: One-hot encoding. Its idea bases on the transforming the categorical attribute using binary code: each category is a set of zeros and ones.\n",
    "Let's see how this method works on a simple data set."
   ]
  },
  {
   "cell_type": "code",
   "execution_count": 11,
   "metadata": {},
   "outputs": [
    {
     "name": "stdout",
     "output_type": "stream",
     "text": [
      "Categoriacal data: (4, 2) \n",
      "\n",
      "      sex nationality\n",
      "0    male    American\n",
      "1  female    European\n",
      "2    male       Asian\n",
      "3  female    European\n",
      "\n",
      "Encoded data: (4, 5) \n",
      "\n",
      "[[0. 1. 1. 0. 0.]\n",
      " [1. 0. 0. 0. 1.]\n",
      " [0. 1. 0. 1. 0.]\n",
      " [1. 0. 0. 0. 1.]]\n"
     ]
    }
   ],
   "source": [
    "#  EXAMPLE\n",
    "\n",
    "from sklearn.preprocessing import OneHotEncoder\n",
    "example_data = pd.DataFrame({'sex': ['male', 'female', 'male', 'female'], \n",
    "                               'nationality': ['American', 'European', 'Asian', 'European']})\n",
    "print('Categoriacal data:', example_data.shape, '\\n')\n",
    "print(example_data)\n",
    "\n",
    "encoder = OneHotEncoder(handle_unknown='ignore')\n",
    "encoder.fit(example_data)\n",
    "encoded_data = encoder.transform(example_data).toarray()\n",
    "\n",
    "print('\\nEncoded data:', encoded_data.shape, '\\n')\n",
    "print(encoded_data)"
   ]
  },
  {
   "cell_type": "markdown",
   "metadata": {},
   "source": [
    "As we can see, first 3 columns encode information about country, and another 2 - about sex. It can also be seen from the example that coding features significantly increases their number, but completely saves information, including about missing values (they simply becomes one of the binary features in the converted data):"
   ]
  },
  {
   "cell_type": "code",
   "execution_count": 12,
   "metadata": {},
   "outputs": [
    {
     "name": "stdout",
     "output_type": "stream",
     "text": [
      "Normal shape: (6000, 25) Encoder shape: (6000, 5593)\n"
     ]
    }
   ],
   "source": [
    "# Apply OneHotEncoder to our categorical data\n",
    "\n",
    "encoder = OneHotEncoder(handle_unknown='error')\n",
    "encoder.fit(X_cat)\n",
    "X_cat_oh = encoder.transform(X_cat).toarray()\n",
    "print('Normal shape:', X_cat.shape, 'Encoder shape:', X_cat_oh.shape)"
   ]
  },
  {
   "cell_type": "markdown",
   "metadata": {},
   "source": [
    "### Data Split"
   ]
  },
  {
   "cell_type": "code",
   "execution_count": 13,
   "metadata": {},
   "outputs": [],
   "source": [
    "# Train size 0.7; Test size 0.3\n",
    "\n",
    "from sklearn.model_selection import train_test_split\n",
    "\n",
    "(X_train_real_zeros, \n",
    " X_test_real_zeros, \n",
    " y_train, y_test) = train_test_split(X_real_zeros, y, \n",
    "                                     test_size=0.3, \n",
    "                                     random_state=0)\n",
    "(X_train_real_mean, \n",
    " X_test_real_mean) = train_test_split(X_real_mean, \n",
    "                                      test_size=0.3, \n",
    "                                      random_state=0)\n",
    "(X_train_cat_oh,\n",
    " X_test_cat_oh) = train_test_split(X_cat_oh, \n",
    "                                   test_size=0.3, \n",
    "                                   random_state=0)"
   ]
  },
  {
   "cell_type": "markdown",
   "metadata": {},
   "source": [
    "## 3. Comparison of filling Means with filling Zeros"
   ]
  },
  {
   "cell_type": "code",
   "execution_count": 14,
   "metadata": {},
   "outputs": [
    {
     "name": "stdout",
     "output_type": "stream",
     "text": [
      "(4200, 13) + (4200, 5593) = (4200, 5606)\n",
      "(1800, 13) + (1800, 5593) = (1800, 5606)\n"
     ]
    }
   ],
   "source": [
    "# Let's compose two samples of data:\n",
    "\n",
    "# TRAIN\n",
    "X0 = np.hstack((X_train_real_zeros, X_train_cat_oh))\n",
    "X1 = np.hstack((X_train_real_mean, X_train_cat_oh))\n",
    "print(X_train_real_zeros.shape, '+', X_train_cat_oh.shape, '=', X0.shape)\n",
    "\n",
    "# TEST\n",
    "x0 = np.hstack((X_test_real_zeros, X_test_cat_oh))\n",
    "x1 = np.hstack((X_test_real_mean, X_test_cat_oh))\n",
    "print(X_test_real_zeros.shape, '+', X_test_cat_oh.shape, '=', x0.shape)"
   ]
  },
  {
   "cell_type": "markdown",
   "metadata": {},
   "source": [
    "Now we can learn Logistic Regression using the sklearn library functional for selecting model hyperparameters _GridSerchCV_ with cross validation number of folds 3. For comparison of methods to fill missing real values, we will use ROC-AUC metrics."
   ]
  },
  {
   "cell_type": "code",
   "execution_count": 15,
   "metadata": {},
   "outputs": [],
   "source": [
    "from sklearn.linear_model import LogisticRegression\n",
    "from sklearn.model_selection import GridSearchCV\n",
    "from sklearn import metrics\n",
    "\n",
    "param_grid = {'C': [0.01, 0.05, 0.1, 0.5, 1, 5, 10]}\n",
    "cv = 3"
   ]
  },
  {
   "cell_type": "code",
   "execution_count": 16,
   "metadata": {},
   "outputs": [],
   "source": [
    "estimator = LogisticRegression(random_state=1)\n",
    "optimizer_0 = GridSearchCV(estimator, param_grid, cv = 3)\n",
    "optimizer_1 = GridSearchCV(estimator, param_grid, cv = 3)"
   ]
  },
  {
   "cell_type": "code",
   "execution_count": 17,
   "metadata": {},
   "outputs": [
    {
     "name": "stdout",
     "output_type": "stream",
     "text": [
      "CPU times: user 9.27 s, sys: 289 ms, total: 9.56 s\n",
      "Wall time: 4.95 s\n"
     ]
    },
    {
     "data": {
      "text/plain": [
       "GridSearchCV(cv=3, error_score='raise-deprecating',\n",
       "             estimator=LogisticRegression(C=1.0, class_weight=None, dual=False,\n",
       "                                          fit_intercept=True,\n",
       "                                          intercept_scaling=1, l1_ratio=None,\n",
       "                                          max_iter=100, multi_class='warn',\n",
       "                                          n_jobs=None, penalty='l2',\n",
       "                                          random_state=1, solver='warn',\n",
       "                                          tol=0.0001, verbose=0,\n",
       "                                          warm_start=False),\n",
       "             iid='warn', n_jobs=None,\n",
       "             param_grid={'C': [0.01, 0.05, 0.1, 0.5, 1, 5, 10]},\n",
       "             pre_dispatch='2*n_jobs', refit=True, return_train_score=False,\n",
       "             scoring=None, verbose=0)"
      ]
     },
     "execution_count": 17,
     "metadata": {},
     "output_type": "execute_result"
    }
   ],
   "source": [
    "%%time\n",
    "optimizer_0.fit(X0, y_train) "
   ]
  },
  {
   "cell_type": "code",
   "execution_count": 18,
   "metadata": {},
   "outputs": [
    {
     "name": "stdout",
     "output_type": "stream",
     "text": [
      "best C param {'C': 0.05}\n",
      "best score 0.794047619047619\n"
     ]
    }
   ],
   "source": [
    "# Filling with Zeros\n",
    "print('best C param', optimizer_0.best_params_)\n",
    "print('best score', optimizer_0.best_score_)   # by default is acuuracy"
   ]
  },
  {
   "cell_type": "code",
   "execution_count": 19,
   "metadata": {},
   "outputs": [
    {
     "name": "stdout",
     "output_type": "stream",
     "text": [
      "CPU times: user 9.02 s, sys: 291 ms, total: 9.31 s\n",
      "Wall time: 4.83 s\n"
     ]
    },
    {
     "data": {
      "text/plain": [
       "GridSearchCV(cv=3, error_score='raise-deprecating',\n",
       "             estimator=LogisticRegression(C=1.0, class_weight=None, dual=False,\n",
       "                                          fit_intercept=True,\n",
       "                                          intercept_scaling=1, l1_ratio=None,\n",
       "                                          max_iter=100, multi_class='warn',\n",
       "                                          n_jobs=None, penalty='l2',\n",
       "                                          random_state=1, solver='warn',\n",
       "                                          tol=0.0001, verbose=0,\n",
       "                                          warm_start=False),\n",
       "             iid='warn', n_jobs=None,\n",
       "             param_grid={'C': [0.01, 0.05, 0.1, 0.5, 1, 5, 10]},\n",
       "             pre_dispatch='2*n_jobs', refit=True, return_train_score=False,\n",
       "             scoring=None, verbose=0)"
      ]
     },
     "execution_count": 19,
     "metadata": {},
     "output_type": "execute_result"
    }
   ],
   "source": [
    "%%time\n",
    "optimizer_1.fit(X1, y_train)"
   ]
  },
  {
   "cell_type": "code",
   "execution_count": 20,
   "metadata": {},
   "outputs": [
    {
     "name": "stdout",
     "output_type": "stream",
     "text": [
      "best C param {'C': 0.1}\n",
      "best score 0.7947619047619048\n"
     ]
    }
   ],
   "source": [
    "# Filling with Means\n",
    "print('best C param', optimizer_1.best_params_)\n",
    "print('best score', optimizer_1.best_score_)   # by default is acuuracy"
   ]
  },
  {
   "cell_type": "code",
   "execution_count": 21,
   "metadata": {},
   "outputs": [],
   "source": [
    "# Plot Score / C\n",
    "\n",
    "def plot_scores(optimizer):\n",
    "    item0 = np.array(optimizer.param_grid['C'])\n",
    "    item1 = optimizer.cv_results_['mean_test_score']\n",
    "    scores = [item0,item1]\n",
    "    \n",
    "    plt.semilogx(scores[0], scores[1])\n",
    "    plt.plot(scores[0], scores[1], 'ko',label = scores[0])\n",
    "    plt.legend()\n",
    "    plt.show()"
   ]
  },
  {
   "cell_type": "code",
   "execution_count": 22,
   "metadata": {},
   "outputs": [
    {
     "data": {
      "image/png": "[encoded data removed]",
      "text/plain": [
       "<Figure size 432x288 with 1 Axes>"
      ]
     },
     "metadata": {
      "needs_background": "light"
     },
     "output_type": "display_data"
    }
   ],
   "source": [
    "# X0\n",
    "plot_scores(optimizer_0)"
   ]
  },
  {
   "cell_type": "code",
   "execution_count": 23,
   "metadata": {},
   "outputs": [
    {
     "data": {
      "image/png": "[encoded data removed]",
      "text/plain": [
       "<Figure size 432x288 with 1 Axes>"
      ]
     },
     "metadata": {
      "needs_background": "light"
     },
     "output_type": "display_data"
    }
   ],
   "source": [
    "# X1\n",
    "plot_scores(optimizer_1)"
   ]
  },
  {
   "cell_type": "code",
   "execution_count": 24,
   "metadata": {},
   "outputs": [
    {
     "name": "stdout",
     "output_type": "stream",
     "text": [
      "AUC_labels: 0.809035068941324 \n",
      "AUC_predict: 0.8845061133377302\n"
     ]
    }
   ],
   "source": [
    "# AUC using real ZEROS\n",
    "\n",
    "y0 = optimizer_0.predict(x0)                   # Just labels [0,1]\n",
    "y0_prob = optimizer_0.predict_proba(x0)        # Probabilities of [0,1]\n",
    "\n",
    "from sklearn import metrics \n",
    "AUC0 = metrics.roc_auc_score(y_test, y0)\n",
    "AUC0_ = metrics.roc_auc_score(y_test, y0_prob[:,1])\n",
    "print(f'AUC_labels: {AUC0} \\nAUC_predict: {AUC0_}')"
   ]
  },
  {
   "cell_type": "code",
   "execution_count": 25,
   "metadata": {},
   "outputs": [
    {
     "name": "stdout",
     "output_type": "stream",
     "text": [
      "AUC_labels: 0.8062775397172063 \n",
      "AUC_predict: 0.8877245712744277\n"
     ]
    }
   ],
   "source": [
    "# AUC using real MEAN\n",
    "\n",
    "y1 = optimizer_1.predict(x1)                   # Just labels [0,1]\n",
    "y1_prob = optimizer_1.predict_proba(x1)        # Probabilities of [0,1]\n",
    "AUC1 = metrics.roc_auc_score(y_test, y1)\n",
    "AUC1_ = metrics.roc_auc_score(y_test, y1_prob[:,1])\n",
    "print(f'AUC_labels: {AUC1} \\nAUC_predict: {AUC1_}')"
   ]
  },
  {
   "cell_type": "code",
   "execution_count": 26,
   "metadata": {},
   "outputs": [
    {
     "name": "stdout",
     "output_type": "stream",
     "text": [
      "ROC-AUC Zeros: 0.8845061133377302 \n",
      "ROC-AUC Means: 0.8877245712744277\n"
     ]
    }
   ],
   "source": [
    "print(f'ROC-AUC Zeros: {AUC0_} \\nROC-AUC Means: {AUC1_}')"
   ]
  },
  {
   "cell_type": "markdown",
   "metadata": {},
   "source": [
    "## 4. Scaling real values"
   ]
  },
  {
   "cell_type": "markdown",
   "metadata": {},
   "source": [
    "Let's try look at the data itself:"
   ]
  },
  {
   "cell_type": "code",
   "execution_count": 27,
   "metadata": {},
   "outputs": [
    {
     "data": {
      "image/png": "[encoded data removed]",
      "text/plain": [
       "<Figure size 720x720 with 9 Axes>"
      ]
     },
     "metadata": {
      "needs_background": "light"
     },
     "output_type": "display_data"
    }
   ],
   "source": [
    "from pandas.plotting import scatter_matrix\n",
    "\n",
    "data_numeric = pd.DataFrame(X_train_real_zeros, columns=numeric_cols)\n",
    "list_cols = ['Number.of.Successful.Grant.1', 'SEO.Percentage.2', 'Year.of.Birth.1']\n",
    "scatter_matrix(data_numeric[list_cols], alpha=0.5, figsize=(10, 10))\n",
    "plt.show()"
   ]
  },
  {
   "cell_type": "markdown",
   "metadata": {},
   "source": [
    "As can be seen from the graphs, different features are very different from each other in absolute values. In case of Linear Regression that does not affect the quality of the trained model, as smaller features values have great weight, but the use of regularization, which penalizes the model for big weight, regression, as a rule, begins to work less.\n",
    "Thats why, when Logistic Regression has used, scaling is necesary.\n",
    "One of the way to scaling is:\n",
    "\n",
    "$$ x^{scaled}_{id} = \\dfrac{x_{id} - \\mu_d}{\\sigma_d}$$"
   ]
  },
  {
   "cell_type": "code",
   "execution_count": 28,
   "metadata": {},
   "outputs": [],
   "source": [
    "X_train_real = X_train_real_mean\n",
    "X_test_real = X_test_real_mean"
   ]
  },
  {
   "cell_type": "code",
   "execution_count": 29,
   "metadata": {},
   "outputs": [],
   "source": [
    "# SCALED REAL X\n",
    "\n",
    "from sklearn.preprocessing import StandardScaler\n",
    "\n",
    "scaler = StandardScaler()\n",
    "scaler.fit(X_train_real)\n",
    "\n",
    "X_train_real_scaled = scaler.transform(X_train_real)\n",
    "X_test_real_scaled = scaler.transform(X_test_real)"
   ]
  },
  {
   "cell_type": "code",
   "execution_count": 30,
   "metadata": {},
   "outputs": [
    {
     "data": {
      "image/png": "[encoded data removed]",
      "text/plain": [
       "<Figure size 720x720 with 9 Axes>"
      ]
     },
     "metadata": {
      "needs_background": "light"
     },
     "output_type": "display_data"
    }
   ],
   "source": [
    "# Repeat the diagrams for scaling values\n",
    "\n",
    "data_numeric_scaled = pd.DataFrame(X_train_real_scaled, columns=numeric_cols)\n",
    "list_cols = ['Number.of.Successful.Grant.1', 'SEO.Percentage.2', 'Year.of.Birth.1']\n",
    "scatter_matrix(data_numeric_scaled[list_cols], alpha=0.5, figsize=(10, 10))\n",
    "plt.show()"
   ]
  },
  {
   "cell_type": "markdown",
   "metadata": {},
   "source": [
    "Now we can compare the quality of the classification before and after scaling"
   ]
  },
  {
   "cell_type": "code",
   "execution_count": 32,
   "metadata": {},
   "outputs": [],
   "source": [
    "X_train = np.hstack((X_train_real_scaled, X_train_cat_oh))      # TRAIN\n",
    "X_test = np.hstack((X_test_real_scaled, X_test_cat_oh))         # TEST"
   ]
  },
  {
   "cell_type": "code",
   "execution_count": 33,
   "metadata": {},
   "outputs": [],
   "source": [
    "optimizer_scal = GridSearchCV(estimator, param_grid, cv = 3)"
   ]
  },
  {
   "cell_type": "code",
   "execution_count": 34,
   "metadata": {},
   "outputs": [
    {
     "name": "stdout",
     "output_type": "stream",
     "text": [
      "CPU times: user 5.63 s, sys: 323 ms, total: 5.95 s\n",
      "Wall time: 3.34 s\n"
     ]
    },
    {
     "data": {
      "text/plain": [
       "GridSearchCV(cv=3, error_score='raise-deprecating',\n",
       "             estimator=LogisticRegression(C=1.0, class_weight=None, dual=False,\n",
       "                                          fit_intercept=True,\n",
       "                                          intercept_scaling=1, l1_ratio=None,\n",
       "                                          max_iter=100, multi_class='warn',\n",
       "                                          n_jobs=None, penalty='l2',\n",
       "                                          random_state=1, solver='warn',\n",
       "                                          tol=0.0001, verbose=0,\n",
       "                                          warm_start=False),\n",
       "             iid='warn', n_jobs=None,\n",
       "             param_grid={'C': [0.01, 0.05, 0.1, 0.5, 1, 5, 10]},\n",
       "             pre_dispatch='2*n_jobs', refit=True, return_train_score=False,\n",
       "             scoring=None, verbose=0)"
      ]
     },
     "execution_count": 34,
     "metadata": {},
     "output_type": "execute_result"
    }
   ],
   "source": [
    "%%time\n",
    "optimizer_scal.fit(X_train, y_train) "
   ]
  },
  {
   "cell_type": "code",
   "execution_count": 35,
   "metadata": {},
   "outputs": [
    {
     "name": "stdout",
     "output_type": "stream",
     "text": [
      "best C param {'C': 0.1}\n",
      "best score 0.7954761904761904\n"
     ]
    }
   ],
   "source": [
    "# Scaling data\n",
    "print('best C param', optimizer_scal.best_params_)\n",
    "print('best score', optimizer_scal.best_score_)   # accuracy by default"
   ]
  },
  {
   "cell_type": "code",
   "execution_count": 36,
   "metadata": {},
   "outputs": [
    {
     "name": "stdout",
     "output_type": "stream",
     "text": [
      "AUC_labels: 0.8079214156760308 \n",
      "AUC_predict: 0.8879349280023164\n"
     ]
    }
   ],
   "source": [
    "y_scal = optimizer_scal.predict(X_test)                   # Just labels [0,1]\n",
    "y_prob_scal = optimizer_scal.predict_proba(X_test)        # Probabilities of [0,1]\n",
    "\n",
    "AUC_scal = metrics.roc_auc_score(y_test, y_scal)\n",
    "AUC_scal_ = metrics.roc_auc_score(y_test, y_prob_scal[:,1])\n",
    "print(f'AUC_labels: {AUC_scal} \\nAUC_predict: {AUC_scal_}')"
   ]
  },
  {
   "cell_type": "code",
   "execution_count": 37,
   "metadata": {},
   "outputs": [
    {
     "name": "stdout",
     "output_type": "stream",
     "text": [
      "ROC-AUC before scaling: 0.8877245712744277 \n",
      "ROC-AUC after scaling: 0.8879349280023164\n"
     ]
    }
   ],
   "source": [
    "print(f'ROC-AUC before scaling: {AUC1_} \\nROC-AUC after scaling: {AUC_scal_}')"
   ]
  },
  {
   "cell_type": "markdown",
   "metadata": {},
   "source": [
    "Althought the estimation didn't improve too much, this result is more reliable."
   ]
  },
  {
   "cell_type": "markdown",
   "metadata": {},
   "source": [
    "## 5. Class balancing"
   ]
  },
  {
   "cell_type": "markdown",
   "metadata": {},
   "source": [
    "Classification algorithms can be very sensitive to unbalanced classes. Let's see if the classes are balanced in our training set:"
   ]
  },
  {
   "cell_type": "code",
   "execution_count": 38,
   "metadata": {},
   "outputs": [
    {
     "name": "stdout",
     "output_type": "stream",
     "text": [
      "0 train 2316\n",
      "1 train 1884\n",
      "0 test 943\n",
      "1 test 857\n"
     ]
    }
   ],
   "source": [
    "print('0 train', np.sum(y_train==0))\n",
    "print('1 train', np.sum(y_train==1))\n",
    "print('0 test', np.sum(y_test==0))\n",
    "print('1 test', np.sum(y_test==1))"
   ]
  },
  {
   "cell_type": "markdown",
   "metadata": {},
   "source": [
    "It is seen that the classes are not balanced.\n",
    "We can solve the situation in different ways:\n",
    "- give objects of a minority class more weight when training the classifier _(LogisticRegression(class_weight='balanced')...)_\n",
    "- re-sample the objects of the minority class until the number of objects in both classes is equal"
   ]
  },
  {
   "cell_type": "markdown",
   "metadata": {},
   "source": [
    "### 5.1. Class balancing by indicate it in classifier"
   ]
  },
  {
   "cell_type": "code",
   "execution_count": 39,
   "metadata": {},
   "outputs": [],
   "source": [
    "optimizer_balanc = GridSearchCV(LogisticRegression(class_weight='balanced'), param_grid, cv=cv, n_jobs=-1)"
   ]
  },
  {
   "cell_type": "code",
   "execution_count": 40,
   "metadata": {},
   "outputs": [
    {
     "name": "stdout",
     "output_type": "stream",
     "text": [
      "CPU times: user 274 ms, sys: 160 ms, total: 434 ms\n",
      "Wall time: 7.1 s\n"
     ]
    },
    {
     "data": {
      "text/plain": [
       "GridSearchCV(cv=3, error_score='raise-deprecating',\n",
       "             estimator=LogisticRegression(C=1.0, class_weight='balanced',\n",
       "                                          dual=False, fit_intercept=True,\n",
       "                                          intercept_scaling=1, l1_ratio=None,\n",
       "                                          max_iter=100, multi_class='warn',\n",
       "                                          n_jobs=None, penalty='l2',\n",
       "                                          random_state=None, solver='warn',\n",
       "                                          tol=0.0001, verbose=0,\n",
       "                                          warm_start=False),\n",
       "             iid='warn', n_jobs=-1,\n",
       "             param_grid={'C': [0.01, 0.05, 0.1, 0.5, 1, 5, 10]},\n",
       "             pre_dispatch='2*n_jobs', refit=True, return_train_score=False,\n",
       "             scoring=None, verbose=0)"
      ]
     },
     "execution_count": 40,
     "metadata": {},
     "output_type": "execute_result"
    }
   ],
   "source": [
    "%%time\n",
    "optimizer_balanc.fit(X_train, y_train) "
   ]
  },
  {
   "cell_type": "code",
   "execution_count": 41,
   "metadata": {},
   "outputs": [
    {
     "name": "stdout",
     "output_type": "stream",
     "text": [
      "best C param {'C': 0.05}\n",
      "best score 0.7876190476190477\n"
     ]
    }
   ],
   "source": [
    "print('best C param', optimizer_balanc.best_params_)\n",
    "print('best score', optimizer_balanc.best_score_)"
   ]
  },
  {
   "cell_type": "code",
   "execution_count": 42,
   "metadata": {},
   "outputs": [
    {
     "name": "stdout",
     "output_type": "stream",
     "text": [
      "AUC_labels: 0.8040558014529462 \n",
      "AUC_predict: 0.885846209433633\n"
     ]
    }
   ],
   "source": [
    "y_balanc = optimizer_balanc.predict(X_test)                   # Just labels [0,1]\n",
    "y_prob_balanc = optimizer_balanc.predict_proba(X_test)        # Probabilities of [0,1]\n",
    "AUC_balanc = metrics.roc_auc_score(y_test, y_balanc)\n",
    "\n",
    "AUC_balanc_ = metrics.roc_auc_score(y_test, y_prob_balanc[:,1])\n",
    "print(f'AUC_labels: {AUC_balanc} \\nAUC_predict: {AUC_balanc_}')"
   ]
  },
  {
   "cell_type": "markdown",
   "metadata": {},
   "source": [
    "### 5.2. Class balancing by manual equalization of classes"
   ]
  },
  {
   "cell_type": "code",
   "execution_count": 43,
   "metadata": {
    "scrolled": true
   },
   "outputs": [],
   "source": [
    "y_train = y_train.to_numpy()\n",
    "y_test = y_test.to_numpy()"
   ]
  },
  {
   "cell_type": "code",
   "execution_count": 44,
   "metadata": {
    "scrolled": true
   },
   "outputs": [],
   "source": [
    "add_train_num = np.sum(y_train==0) - np.sum(y_train==1)   # how much we need to balance class\n",
    "X_train_to_add = np.zeros((add_train_num, X_train.shape[1]))\n",
    "y_train_to_add = np.zeros((add_train_num,1))\n",
    "\n",
    "for i in range(add_train_num):\n",
    "    np.random.seed(i)\n",
    "    indice_to_add = np.random.randint(np.sum(y_train==1))  #1 random de clase 1\n",
    "    X_train_to_add[i] = (X_train[np.where(y_train==1)])[indice_to_add]\n",
    "    y_train_to_add[i] = y_train[np.where(y_train==1)][indice_to_add]"
   ]
  },
  {
   "cell_type": "code",
   "execution_count": 45,
   "metadata": {},
   "outputs": [],
   "source": [
    "add_test_num = np.sum(y_test==0) - np.sum(y_test==1)\n",
    "X_test_to_add = np.zeros((add_test_num, X_test.shape[1]))\n",
    "y_test_to_add = np.zeros((add_test_num, 1))\n",
    "\n",
    "for i in range(add_test_num):\n",
    "    np.random.seed(i)\n",
    "    indice_to_add = np.random.randint(np.sum(y_test==1))  #1 random de clase 1\n",
    "    X_test_to_add[i] = (X_test[np.where(y_test==1)])[indice_to_add]\n",
    "    y_test_to_add[i] = y_test[np.where(y_test==1)][indice_to_add]"
   ]
  },
  {
   "cell_type": "code",
   "execution_count": 46,
   "metadata": {},
   "outputs": [],
   "source": [
    "y_train_new = y_train[:, np.newaxis]\n",
    "y_test_new = y_test[:, np.newaxis]"
   ]
  },
  {
   "cell_type": "code",
   "execution_count": 47,
   "metadata": {},
   "outputs": [],
   "source": [
    "X_train_eq = np.vstack((X_train, X_train_to_add)) \n",
    "X_test_eq = np.vstack((X_test, X_test_to_add)) \n",
    "y_train_eq = np.vstack((y_train_new, y_train_to_add)) \n",
    "y_test_eq = np.vstack((y_test_new, y_test_to_add))"
   ]
  },
  {
   "cell_type": "code",
   "execution_count": 48,
   "metadata": {},
   "outputs": [],
   "source": [
    "optimizer_eq = GridSearchCV(LogisticRegression(class_weight='balanced'), param_grid, cv=cv, n_jobs=-1)"
   ]
  },
  {
   "cell_type": "code",
   "execution_count": 49,
   "metadata": {},
   "outputs": [
    {
     "name": "stdout",
     "output_type": "stream",
     "text": [
      "CPU times: user 378 ms, sys: 110 ms, total: 488 ms\n",
      "Wall time: 6.13 s\n"
     ]
    },
    {
     "data": {
      "text/plain": [
       "GridSearchCV(cv=3, error_score='raise-deprecating',\n",
       "             estimator=LogisticRegression(C=1.0, class_weight='balanced',\n",
       "                                          dual=False, fit_intercept=True,\n",
       "                                          intercept_scaling=1, l1_ratio=None,\n",
       "                                          max_iter=100, multi_class='warn',\n",
       "                                          n_jobs=None, penalty='l2',\n",
       "                                          random_state=None, solver='warn',\n",
       "                                          tol=0.0001, verbose=0,\n",
       "                                          warm_start=False),\n",
       "             iid='warn', n_jobs=-1,\n",
       "             param_grid={'C': [0.01, 0.05, 0.1, 0.5, 1, 5, 10]},\n",
       "             pre_dispatch='2*n_jobs', refit=True, return_train_score=False,\n",
       "             scoring=None, verbose=0)"
      ]
     },
     "execution_count": 49,
     "metadata": {},
     "output_type": "execute_result"
    }
   ],
   "source": [
    "%%time\n",
    "optimizer_eq.fit(X_train_eq, y_train_eq) "
   ]
  },
  {
   "cell_type": "code",
   "execution_count": 50,
   "metadata": {},
   "outputs": [
    {
     "name": "stdout",
     "output_type": "stream",
     "text": [
      "best C param {'C': 1}\n",
      "best score 0.8035405872193437\n"
     ]
    }
   ],
   "source": [
    "print('best C param', optimizer_eq.best_params_)\n",
    "print('best score', optimizer_eq.best_score_)"
   ]
  },
  {
   "cell_type": "code",
   "execution_count": 51,
   "metadata": {
    "scrolled": true
   },
   "outputs": [
    {
     "name": "stdout",
     "output_type": "stream",
     "text": [
      "AUC_labels: 0.8160127253446448 \n",
      "AUC_predict: 0.886881514626387\n"
     ]
    }
   ],
   "source": [
    "y_eq = optimizer_eq.predict(X_test_eq)                   # Just labels [0,1]\n",
    "y_prob_eq = optimizer_eq.predict_proba(X_test_eq)        # Probabilities to [0,1]\n",
    "AUC_eq = metrics.roc_auc_score(y_test_eq, y_eq)\n",
    "AUC_eq_ = metrics.roc_auc_score(y_test_eq, y_prob_eq[:,1])\n",
    "print(f'AUC_labels: {AUC_eq} \\nAUC_predict: {AUC_eq_}')"
   ]
  },
  {
   "cell_type": "code",
   "execution_count": 52,
   "metadata": {},
   "outputs": [
    {
     "name": "stdout",
     "output_type": "stream",
     "text": [
      "ROC-AUC balance 1: 0.885846209433633 \n",
      "ROC-AUC balance 2: 0.886881514626387\n"
     ]
    }
   ],
   "source": [
    "print(f'ROC-AUC balance 1: {AUC_balanc_} \\nROC-AUC balance 2: {AUC_eq_}')"
   ]
  },
  {
   "cell_type": "markdown",
   "metadata": {},
   "source": [
    "## 6. Stratification of data"
   ]
  },
  {
   "cell_type": "markdown",
   "metadata": {},
   "source": [
    "We already know that the Logistic Regression algorithm is sensitive to class balancing in the training set. The classifier metrics on the test would make much more sense if the objects of different classes were divided equally in the train and test samples. We reorganize the samples and calculate the new metrics:"
   ]
  },
  {
   "cell_type": "code",
   "execution_count": 53,
   "metadata": {},
   "outputs": [
    {
     "name": "stdout",
     "output_type": "stream",
     "text": [
      "0 class ratio:  2.4559915164369035\n",
      "1 class ratio:  2.1983663943990663\n"
     ]
    }
   ],
   "source": [
    "# Before Stratification\n",
    "\n",
    "print('0 class ratio: ', np.sum(y_train==0)/np.sum(y_test==0))\n",
    "print('1 class ratio: ', np.sum(y_train==1)/np.sum(y_test==1))"
   ]
  },
  {
   "cell_type": "markdown",
   "metadata": {},
   "source": [
    "Let's split the data again"
   ]
  },
  {
   "cell_type": "code",
   "execution_count": 54,
   "metadata": {},
   "outputs": [],
   "source": [
    "(X_train_real_zeros,         # pandas dtype\n",
    " X_test_real_zeros, \n",
    " y_train, y_test) = train_test_split(X_real_zeros.to_numpy(), y.to_numpy(), \n",
    "                                     test_size=0.3, \n",
    "                                     stratify=y, random_state=0)\n",
    "(X_train_real_mean,           # pandas dtype\n",
    " X_test_real_mean) = train_test_split(X_real_mean.to_numpy(), \n",
    "                                      test_size=0.3, \n",
    "                                      stratify=y, random_state=0)\n",
    "(X_train_cat_oh,              # nparray dtype\n",
    " X_test_cat_oh) = train_test_split(X_cat_oh, \n",
    "                                   test_size=0.3, \n",
    "                                   stratify=y, random_state=0)"
   ]
  },
  {
   "cell_type": "code",
   "execution_count": 55,
   "metadata": {},
   "outputs": [],
   "source": [
    "X_train_real = X_train_real_mean\n",
    "X_test_real = X_test_real_mean"
   ]
  },
  {
   "cell_type": "code",
   "execution_count": 56,
   "metadata": {},
   "outputs": [],
   "source": [
    "# Scale again\n",
    "\n",
    "from sklearn.preprocessing import StandardScaler\n",
    "\n",
    "scaler = StandardScaler()\n",
    "scaler.fit(X_train_real)\n",
    "X_train_real_scaled = scaler.transform(X_train_real)\n",
    "X_test_real_scaled = scaler.transform(X_test_real)\n",
    "\n",
    "X_train = np.hstack((X_train_real_scaled, X_train_cat_oh))  \n",
    "X_test = np.hstack((X_test_real_scaled, X_test_cat_oh))  "
   ]
  },
  {
   "cell_type": "code",
   "execution_count": 57,
   "metadata": {},
   "outputs": [],
   "source": [
    "optimizer_str = GridSearchCV(LogisticRegression(class_weight='balanced'), param_grid, cv=cv, n_jobs=-1)"
   ]
  },
  {
   "cell_type": "code",
   "execution_count": 58,
   "metadata": {},
   "outputs": [
    {
     "name": "stdout",
     "output_type": "stream",
     "text": [
      "CPU times: user 345 ms, sys: 153 ms, total: 498 ms\n",
      "Wall time: 7.19 s\n"
     ]
    },
    {
     "data": {
      "text/plain": [
       "GridSearchCV(cv=3, error_score='raise-deprecating',\n",
       "             estimator=LogisticRegression(C=1.0, class_weight='balanced',\n",
       "                                          dual=False, fit_intercept=True,\n",
       "                                          intercept_scaling=1, l1_ratio=None,\n",
       "                                          max_iter=100, multi_class='warn',\n",
       "                                          n_jobs=None, penalty='l2',\n",
       "                                          random_state=None, solver='warn',\n",
       "                                          tol=0.0001, verbose=0,\n",
       "                                          warm_start=False),\n",
       "             iid='warn', n_jobs=-1,\n",
       "             param_grid={'C': [0.01, 0.05, 0.1, 0.5, 1, 5, 10]},\n",
       "             pre_dispatch='2*n_jobs', refit=True, return_train_score=False,\n",
       "             scoring=None, verbose=0)"
      ]
     },
     "execution_count": 58,
     "metadata": {},
     "output_type": "execute_result"
    }
   ],
   "source": [
    "%%time\n",
    "optimizer_str.fit(X_train, y_train) "
   ]
  },
  {
   "cell_type": "code",
   "execution_count": 59,
   "metadata": {
    "scrolled": true
   },
   "outputs": [
    {
     "name": "stdout",
     "output_type": "stream",
     "text": [
      "best C param {'C': 0.1}\n",
      "best score 0.8045238095238095\n"
     ]
    }
   ],
   "source": [
    "print('best C param', optimizer_str.best_params_)\n",
    "print('best score', optimizer_str.best_score_)"
   ]
  },
  {
   "cell_type": "code",
   "execution_count": 60,
   "metadata": {},
   "outputs": [
    {
     "name": "stdout",
     "output_type": "stream",
     "text": [
      "AUC_labels: 0.7879890436314241 \n",
      "AUC_predict: 0.876940501246399\n"
     ]
    }
   ],
   "source": [
    "y_str = optimizer_str.predict(X_test)                   # Just labels [0,1]\n",
    "y_prob_str = optimizer_str.predict_proba(X_test)        # Probabilities of [0,1]\n",
    "AUC_str = metrics.roc_auc_score(y_test, y_str)\n",
    "AUC_str_ = metrics.roc_auc_score(y_test, y_prob_str[:,1])\n",
    "print(f'AUC_labels: {AUC_str} \\nAUC_predict: {AUC_str_}')"
   ]
  },
  {
   "cell_type": "code",
   "execution_count": 61,
   "metadata": {
    "scrolled": true
   },
   "outputs": [
    {
     "name": "stdout",
     "output_type": "stream",
     "text": [
      "0 class ratio:  2.3323108384458076\n",
      "1 class ratio:  2.334549878345499\n"
     ]
    }
   ],
   "source": [
    "# After Stratification\n",
    "\n",
    "print('0 class ratio: ', np.sum(y_train==0)/np.sum(y_test==0))\n",
    "print('1 class ratio: ', np.sum(y_train==1)/np.sum(y_test==1))"
   ]
  },
  {
   "cell_type": "code",
   "execution_count": 62,
   "metadata": {},
   "outputs": [
    {
     "name": "stdout",
     "output_type": "stream",
     "text": [
      "ROC-AUC before stratification: 0.886881514626387 \n",
      "ROC-AUC after stratification: 0.876940501246399\n"
     ]
    }
   ],
   "source": [
    "print(f'ROC-AUC before stratification: {AUC_eq_} \\nROC-AUC after stratification: {AUC_str_}')"
   ]
  },
  {
   "cell_type": "markdown",
   "metadata": {},
   "source": [
    "## 7. Features transformation"
   ]
  },
  {
   "cell_type": "markdown",
   "metadata": {},
   "source": [
    "There are different methods of transformation of features, which allow using linear methods of getting more complex parting surfaces. The most basic is the Polynomial transformation. The idea is that in addition to the features themselves, you additionally include a set of all degree polynomials that can be built from them. For the case 𝑝 = 2, the transformation is as follows:\n",
    "$$ \\phi(x_i) = [x_{i,1}^2, ..., x_{i,D}^2, x_{i,1}x_{i,2}, ..., x_{i,D} x_{i,D-1}, x_{i,1}, ..., x_{i,D}, 1] $$\n",
    "\n",
    "But at the same time, this method contributes to a stronger ability to overfitting due to the rapid growth in the number of features with an increase of $p$ degree."
   ]
  },
  {
   "cell_type": "code",
   "execution_count": 63,
   "metadata": {},
   "outputs": [
    {
     "data": {
      "text/plain": [
       "(4200, 105)"
      ]
     },
     "execution_count": 63,
     "metadata": {},
     "output_type": "execute_result"
    }
   ],
   "source": [
    "# Transformation using polynomial features of degree p = 2\n",
    "\n",
    "from sklearn.preprocessing import PolynomialFeatures\n",
    "\n",
    "poly_transform = PolynomialFeatures(2)\n",
    "X_train_real_poly = poly_transform.fit_transform(X_train_real)     # Just real numeric values\n",
    "X_test_real_poly = poly_transform.transform(X_test_real)\n",
    "X_train_real_poly.shape"
   ]
  },
  {
   "cell_type": "code",
   "execution_count": 64,
   "metadata": {},
   "outputs": [],
   "source": [
    "# Scaling again\n",
    "\n",
    "from sklearn.preprocessing import StandardScaler\n",
    "scaler = StandardScaler()\n",
    "scaler.fit(X_train_real_poly)\n",
    "X_train_real_scaled = scaler.transform(X_train_real_poly)\n",
    "X_test_real_scaled = scaler.transform(X_test_real_poly)\n"
   ]
  },
  {
   "cell_type": "code",
   "execution_count": 65,
   "metadata": {},
   "outputs": [],
   "source": [
    "X_train_poly = np.hstack((X_train_real_scaled, X_train_cat_oh))  \n",
    "X_test_poly = np.hstack((X_test_real_scaled, X_test_cat_oh))"
   ]
  },
  {
   "cell_type": "code",
   "execution_count": 66,
   "metadata": {},
   "outputs": [],
   "source": [
    "optimizer_poly = GridSearchCV(LogisticRegression(class_weight='balanced',fit_intercept=False), param_grid, \\\n",
    "                              cv=cv, n_jobs=-1)"
   ]
  },
  {
   "cell_type": "code",
   "execution_count": 67,
   "metadata": {
    "scrolled": false
   },
   "outputs": [
    {
     "name": "stdout",
     "output_type": "stream",
     "text": [
      "CPU times: user 757 ms, sys: 205 ms, total: 962 ms\n",
      "Wall time: 11.5 s\n"
     ]
    },
    {
     "data": {
      "text/plain": [
       "GridSearchCV(cv=3, error_score='raise-deprecating',\n",
       "             estimator=LogisticRegression(C=1.0, class_weight='balanced',\n",
       "                                          dual=False, fit_intercept=False,\n",
       "                                          intercept_scaling=1, l1_ratio=None,\n",
       "                                          max_iter=100, multi_class='warn',\n",
       "                                          n_jobs=None, penalty='l2',\n",
       "                                          random_state=None, solver='warn',\n",
       "                                          tol=0.0001, verbose=0,\n",
       "                                          warm_start=False),\n",
       "             iid='warn', n_jobs=-1,\n",
       "             param_grid={'C': [0.01, 0.05, 0.1, 0.5, 1, 5, 10]},\n",
       "             pre_dispatch='2*n_jobs', refit=True, return_train_score=False,\n",
       "             scoring=None, verbose=0)"
      ]
     },
     "execution_count": 67,
     "metadata": {},
     "output_type": "execute_result"
    }
   ],
   "source": [
    "%%time\n",
    "optimizer_poly.fit(X_train_poly, y_train) "
   ]
  },
  {
   "cell_type": "code",
   "execution_count": 68,
   "metadata": {
    "scrolled": true
   },
   "outputs": [
    {
     "name": "stdout",
     "output_type": "stream",
     "text": [
      "best C param {'C': 0.1}\n",
      "best score 0.8095238095238095\n"
     ]
    }
   ],
   "source": [
    "print('best C param', optimizer_poly.best_params_)\n",
    "print('best score', optimizer_poly.best_score_)"
   ]
  },
  {
   "cell_type": "code",
   "execution_count": 69,
   "metadata": {},
   "outputs": [
    {
     "name": "stdout",
     "output_type": "stream",
     "text": [
      "AUC_labels: 0.800038810024928 \n",
      "AUC_predict: 0.8855060727737725\n"
     ]
    }
   ],
   "source": [
    "y_poly = optimizer_poly.predict(X_test_poly)                   # Just labels [0,1]\n",
    "y_prob_poly = optimizer_poly.predict_proba(X_test_poly)        # Probabilities of [0,1]\n",
    "AUC_poly = metrics.roc_auc_score(y_test, y_poly)\n",
    "AUC_poly_ = metrics.roc_auc_score(y_test, y_prob_poly[:,1])\n",
    "print(f'AUC_labels: {AUC_poly} \\nAUC_predict: {AUC_poly_}')"
   ]
  },
  {
   "cell_type": "markdown",
   "metadata": {},
   "source": [
    "## 8.  Lasso Regression"
   ]
  },
  {
   "cell_type": "markdown",
   "metadata": {},
   "source": [
    "We can also apply L1-regularization (Lasso) instead of L2-regularization for Logistic Regression, that will lead to the selection of features."
   ]
  },
  {
   "cell_type": "code",
   "execution_count": 70,
   "metadata": {},
   "outputs": [],
   "source": [
    "clf_L1 = LogisticRegression(penalty = 'l1', random_state=0, class_weight='balanced')"
   ]
  },
  {
   "cell_type": "code",
   "execution_count": 71,
   "metadata": {},
   "outputs": [],
   "source": [
    "optimizer_Lasso = GridSearchCV(clf_L1, param_grid, cv=cv, n_jobs=-1)"
   ]
  },
  {
   "cell_type": "code",
   "execution_count": 72,
   "metadata": {
    "scrolled": true
   },
   "outputs": [
    {
     "name": "stdout",
     "output_type": "stream",
     "text": [
      "CPU times: user 237 ms, sys: 119 ms, total: 356 ms\n",
      "Wall time: 6.86 s\n"
     ]
    },
    {
     "data": {
      "text/plain": [
       "GridSearchCV(cv=3, error_score='raise-deprecating',\n",
       "             estimator=LogisticRegression(C=1.0, class_weight='balanced',\n",
       "                                          dual=False, fit_intercept=True,\n",
       "                                          intercept_scaling=1, l1_ratio=None,\n",
       "                                          max_iter=100, multi_class='warn',\n",
       "                                          n_jobs=None, penalty='l1',\n",
       "                                          random_state=0, solver='warn',\n",
       "                                          tol=0.0001, verbose=0,\n",
       "                                          warm_start=False),\n",
       "             iid='warn', n_jobs=-1,\n",
       "             param_grid={'C': [0.01, 0.05, 0.1, 0.5, 1, 5, 10]},\n",
       "             pre_dispatch='2*n_jobs', refit=True, return_train_score=False,\n",
       "             scoring=None, verbose=0)"
      ]
     },
     "execution_count": 72,
     "metadata": {},
     "output_type": "execute_result"
    }
   ],
   "source": [
    "%%time\n",
    "optimizer_Lasso.fit(X_train, y_train) "
   ]
  },
  {
   "cell_type": "code",
   "execution_count": 73,
   "metadata": {},
   "outputs": [
    {
     "name": "stdout",
     "output_type": "stream",
     "text": [
      "AUC_labels: 0.7901310584687953 \n",
      "AUC_predict: 0.8781520706143429\n"
     ]
    }
   ],
   "source": [
    "y_L1 = optimizer_Lasso.predict(X_test)                   # Just labels [0,1]\n",
    "y_prob_L1 = optimizer_Lasso.predict_proba(X_test)        # Probabilities of [0,1]\n",
    "AUC_L1 = metrics.roc_auc_score(y_test, y_L1)\n",
    "AUC_L1_ = metrics.roc_auc_score(y_test, y_prob_L1[:,1])\n",
    "print(f'AUC_labels: {AUC_L1} \\nAUC_predict: {AUC_L1_}')"
   ]
  },
  {
   "cell_type": "code",
   "execution_count": 74,
   "metadata": {},
   "outputs": [
    {
     "data": {
      "text/plain": [
       "{'C': 0.5}"
      ]
     },
     "execution_count": 74,
     "metadata": {},
     "output_type": "execute_result"
    }
   ],
   "source": [
    "optimizer_Lasso.best_params_"
   ]
  },
  {
   "cell_type": "code",
   "execution_count": 75,
   "metadata": {},
   "outputs": [],
   "source": [
    "clf_L1 = LogisticRegression(penalty = 'l1', C = 0.5, random_state=0, class_weight='balanced')"
   ]
  },
  {
   "cell_type": "code",
   "execution_count": 76,
   "metadata": {},
   "outputs": [
    {
     "data": {
      "text/plain": [
       "LogisticRegression(C=0.5, class_weight='balanced', dual=False,\n",
       "                   fit_intercept=True, intercept_scaling=1, l1_ratio=None,\n",
       "                   max_iter=100, multi_class='warn', n_jobs=None, penalty='l1',\n",
       "                   random_state=0, solver='warn', tol=0.0001, verbose=0,\n",
       "                   warm_start=False)"
      ]
     },
     "execution_count": 76,
     "metadata": {},
     "output_type": "execute_result"
    }
   ],
   "source": [
    "clf_L1.fit(X_train, y_train)"
   ]
  },
  {
   "cell_type": "code",
   "execution_count": 77,
   "metadata": {},
   "outputs": [],
   "source": [
    "y_clf = clf_L1.predict(X_test)\n",
    "y_prob_clf = clf_L1.predict_proba(X_test) "
   ]
  },
  {
   "cell_type": "code",
   "execution_count": 78,
   "metadata": {},
   "outputs": [],
   "source": [
    "#clf_L1.intercept_   # -> 0\n",
    "\n",
    "# Features weights\n",
    "w = clf_L1.coef_"
   ]
  },
  {
   "cell_type": "code",
   "execution_count": 79,
   "metadata": {},
   "outputs": [
    {
     "name": "stdout",
     "output_type": "stream",
     "text": [
      "Populating the interactive namespace from numpy and matplotlib\n"
     ]
    },
    {
     "data": {
      "image/png": "[encoded data removed]",
      "text/plain": [
       "<Figure size 1008x432 with 1 Axes>"
      ]
     },
     "metadata": {
      "needs_background": "light"
     },
     "output_type": "display_data"
    }
   ],
   "source": [
    "%pylab inline\n",
    "plt.figure(figsize=(14, 6))\n",
    "plt.scatter(linspace(0, w.shape[1], w.shape[1]),w)\n",
    "plt.title('Weights of features')\n",
    "plt.show()"
   ]
  },
  {
   "cell_type": "markdown",
   "metadata": {},
   "source": [
    "Let's find which real feautures have 0 weights, i.e. they are not significant for predictive model"
   ]
  },
  {
   "cell_type": "code",
   "execution_count": 80,
   "metadata": {},
   "outputs": [
    {
     "name": "stdout",
     "output_type": "stream",
     "text": [
      "(array([0, 1, 5, 6, 7, 9]),)\n"
     ]
    }
   ],
   "source": [
    "w_real = w[:,:13]  # first 13 columns have real features\n",
    "index_0 = np.where(w_real[0] == 0)\n",
    "print(index_0)"
   ]
  },
  {
   "cell_type": "code",
   "execution_count": 81,
   "metadata": {},
   "outputs": [
    {
     "name": "stdout",
     "output_type": "stream",
     "text": [
      "RFCD.Percentage.1    0.0\n",
      "RFCD.Percentage.2    0.0\n",
      "RFCD.Percentage.3    -0.05702792669872976\n",
      "RFCD.Percentage.4    -0.06302498653277071\n",
      "RFCD.Percentage.5    -0.016797675457523024\n",
      "SEO.Percentage.1    0.0\n",
      "SEO.Percentage.2    0.0\n",
      "SEO.Percentage.3    0.0\n",
      "SEO.Percentage.4    0.0231377192461051\n",
      "SEO.Percentage.5    0.0\n",
      "Year.of.Birth.1    -0.23796768462561285\n",
      "Number.of.Successful.Grant.1    0.9385332416955696\n",
      "Number.of.Unsuccessful.Grant.1    -1.228085104801918\n"
     ]
    }
   ],
   "source": [
    "for i in range(13):\n",
    "    print(numeric_cols[i], \"  \", w_real[0][i])"
   ]
  },
  {
   "cell_type": "markdown",
   "metadata": {},
   "source": [
    "Some of these preprocessing data techniques are also valid for other Machine Learning methods."
   ]
  }
 ],
 "metadata": {
  "kernelspec": {
   "display_name": "Python 3",
   "language": "python",
   "name": "python3"
  },
  "language_info": {
   "codemirror_mode": {
    "name": "ipython",
    "version": 3
   },
   "file_extension": ".py",
   "mimetype": "text/x-python",
   "name": "python",
   "nbconvert_exporter": "python",
   "pygments_lexer": "ipython3",
   "version": "3.7.4"
  }
 },
 "nbformat": 4,
 "nbformat_minor": 1
}
